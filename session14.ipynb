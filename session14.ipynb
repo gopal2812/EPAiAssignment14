{
  "nbformat": 4,
  "nbformat_minor": 0,
  "metadata": {
    "colab": {
      "name": "Untitled79.ipynb",
      "provenance": [],
      "collapsed_sections": [],
      "authorship_tag": "ABX9TyMaUotZPZN1GNL7Ise6P173",
      "include_colab_link": true
    },
    "kernelspec": {
      "display_name": "Python 3",
      "name": "python3"
    },
    "language_info": {
      "name": "python"
    }
  },
  "cells": [
    {
      "cell_type": "markdown",
      "metadata": {
        "id": "view-in-github",
        "colab_type": "text"
      },
      "source": [
        "<a href=\"https://colab.research.google.com/github/gopal2812/EPAiAssignment14/blob/main/session14.ipynb\" target=\"_parent\"><img src=\"https://colab.research.google.com/assets/colab-badge.svg\" alt=\"Open In Colab\"/></a>"
      ]
    },
    {
      "cell_type": "markdown",
      "metadata": {
        "id": "ua2EpDZU6BHE"
      },
      "source": [
        "For this project you have 4 files containing information about persons.\n",
        "\n",
        "The files are:\n",
        "* `personal_info.csv` -   personal information such as name, gender, etc. (one row per person)\n",
        "* `vehicles.csv` -   what vehicle people own (one row per person)\n",
        "* `employment.csv` -   where a person is employed (one row per person)\n",
        "* `update_status.csv` -   when the person's data was created and last updated\n",
        "\n",
        "Each file contains a key, `SSN`, which **uniquely** identifies a person.\n",
        "\n",
        "This key is present in **all** four files.\n",
        "\n",
        "You are guaranteed that the same SSN value is present in **every** file, and that it only appears **once per file**.\n",
        "\n",
        "In addition, the files are all sorted by SSN, i.e. the SSN values appear in the same order in each file.\n"
      ]
    },
    {
      "cell_type": "markdown",
      "metadata": {
        "id": "wxVKHZRw7b6o"
      },
      "source": [
        "For this project you have 4 files containing information about persons.\n",
        "\n",
        "The files are:\n",
        "\n",
        "personal_info.csv - personal information such as name, gender, etc. (one row per person)\n",
        "vehicles.csv - what vehicle people own (one row per person)\n",
        "employment.csv - where a person is employed (one row per person)\n",
        "update_status.csv - when the person's data was created and last updated\n",
        "Each file contains a key, SSN, which uniquely identifies a person.\n",
        "\n",
        "This key is present in all four files.\n",
        "\n",
        "You are guaranteed that the same SSN value is present in every file, and that it only appears once per file.\n",
        "\n",
        "In addition, the files are all sorted by SSN, i.e. the SSN values appear in the same order in each file."
      ]
    },
    {
      "cell_type": "markdown",
      "metadata": {
        "id": "G4W4x72w7zdE"
      },
      "source": [
        "##### Goal 1\n",
        "\n",
        "Your first task is to create iterators for each of the four files that contained cleaned up data, of the correct type (e.g. string, int, date, etc), and represented by a named tuple.\n",
        "\n",
        "For now these four iterators are just separate, independent iterators."
      ]
    },
    {
      "cell_type": "markdown",
      "metadata": {
        "id": "3sibcS9p7-9C"
      },
      "source": [
        "####Goal 2\n",
        "Create a single iterable that combines all the columns from all the iterators.\n",
        "\n",
        "The iterable should yield named tuples containing all the columns. Make sure that the SSN's across the files match!\n",
        "\n",
        "All the files are guaranteed to be in SSN sort order, and every SSN is unique, and every SSN appears in every file.\n",
        "\n",
        "Make sure the SSN is not repeated 4 times - one time per row is enough!"
      ]
    },
    {
      "cell_type": "markdown",
      "metadata": {
        "id": "8pJcOYns8Qdg"
      },
      "source": [
        "##### Goal 3\n",
        "\n",
        "Next, you want to identify any stale records, where stale simply means the record has not been updated since 3/1/2017 (e.g. last update date < 3/1/2017). Create an iterator that only contains current records (i.e. not stale) based on the `last_updated` field from the `status_update` file."
      ]
    },
    {
      "cell_type": "markdown",
      "metadata": {
        "id": "h88Tw33a8Z8q"
      },
      "source": [
        "##### Goal 4\n",
        "\n",
        "Find the largest group of car makes for each gender.\n",
        "\n",
        "Possibly more than one such group per gender exists (equal sizes)."
      ]
    },
    {
      "cell_type": "code",
      "metadata": {
        "colab": {
          "base_uri": "https://localhost:8080/"
        },
        "id": "tm0of3usvHmy",
        "outputId": "95e20285-856e-4515-fcd5-a6b4cc41cd35"
      },
      "source": [
        "from google.colab import drive\n",
        "drive.mount('/content/gdrive')\n"
      ],
      "execution_count": 1,
      "outputs": [
        {
          "output_type": "stream",
          "text": [
            "Drive already mounted at /content/gdrive; to attempt to forcibly remount, call drive.mount(\"/content/gdrive\", force_remount=True).\n"
          ],
          "name": "stdout"
        }
      ]
    },
    {
      "cell_type": "code",
      "metadata": {
        "id": "l43Ftr0mfCQF"
      },
      "source": [
        "from itertools import islice\n",
        "from collections import namedtuple, Counter\n",
        "from datetime import datetime\n",
        "\n",
        "import csv"
      ],
      "execution_count": 2,
      "outputs": []
    },
    {
      "cell_type": "code",
      "metadata": {
        "colab": {
          "base_uri": "https://localhost:8080/"
        },
        "id": "J81kwhkvwN3t",
        "outputId": "b75684d6-1334-483e-cda5-fc88178afc1c"
      },
      "source": [
        "!ls /content/gdrive/MyDrive/employment.csv\n",
        "basedir='/content/gdrive/MyDrive/'\n",
        "empfile=basedir+'employment.csv'"
      ],
      "execution_count": 3,
      "outputs": [
        {
          "output_type": "stream",
          "text": [
            "/content/gdrive/MyDrive/employment.csv\n"
          ],
          "name": "stdout"
        }
      ]
    },
    {
      "cell_type": "markdown",
      "metadata": {
        "id": "0jwg_cMg3oQ_"
      },
      "source": [
        "#### Data Analysis"
      ]
    },
    {
      "cell_type": "code",
      "metadata": {
        "colab": {
          "base_uri": "https://localhost:8080/"
        },
        "id": "8U8KLNK7wcEp",
        "outputId": "df7cb1e6-6a01-4659-cd73-b966f8087f95"
      },
      "source": [
        "open(empfile, 'r').readlines()[:5]"
      ],
      "execution_count": 4,
      "outputs": [
        {
          "output_type": "execute_result",
          "data": {
            "text/plain": [
              "['employer,department,employee_id,ssn\\n',\n",
              " 'Stiedemann-Bailey,Research and Development,29-0890771,100-53-9824\\n',\n",
              " 'Nicolas and Sons,Sales,41-6841359,101-71-4702\\n',\n",
              " 'Connelly Group,Research and Development,98-7952860,101-84-0356\\n',\n",
              " 'Upton LLC,Marketing,56-9817552,104-22-0928\\n']"
            ]
          },
          "metadata": {
            "tags": []
          },
          "execution_count": 4
        }
      ]
    },
    {
      "cell_type": "code",
      "metadata": {
        "colab": {
          "base_uri": "https://localhost:8080/"
        },
        "id": "yIA2tXplxFha",
        "outputId": "acf0d984-775a-448c-ed58-831afc757da2"
      },
      "source": [
        "personalfile=basedir+'personal_info.csv'\n",
        "open(personalfile, 'r').readlines()[:5]"
      ],
      "execution_count": 5,
      "outputs": [
        {
          "output_type": "execute_result",
          "data": {
            "text/plain": [
              "['ssn,first_name,last_name,gender,language\\n',\n",
              " '100-53-9824,Sebastiano,Tester,Male,Icelandic\\n',\n",
              " '101-71-4702,Cayla,MacDonagh,Female,Lao\\n',\n",
              " '101-84-0356,Nomi,Lipprose,Female,Yiddish\\n',\n",
              " '104-22-0928,Justinian,Kunzelmann,Male,Dhivehi\\n']"
            ]
          },
          "metadata": {
            "tags": []
          },
          "execution_count": 5
        }
      ]
    },
    {
      "cell_type": "code",
      "metadata": {
        "colab": {
          "base_uri": "https://localhost:8080/"
        },
        "id": "fMTTSohtwoOW",
        "outputId": "4014bb15-25ab-4fba-a1ff-d8e020adf37d"
      },
      "source": [
        "updatefile=basedir+'update_status.csv'\n",
        "open(updatefile, 'r').readlines()[:5]"
      ],
      "execution_count": 6,
      "outputs": [
        {
          "output_type": "execute_result",
          "data": {
            "text/plain": [
              "['ssn,last_updated,created\\n',\n",
              " '100-53-9824,2017-10-07T00:14:42Z,2016-01-24T21:19:30Z\\n',\n",
              " '101-71-4702,2017-01-23T11:23:17Z,2016-01-27T04:32:57Z\\n',\n",
              " '101-84-0356,2017-10-04T11:21:30Z,2016-09-21T23:04:07Z\\n',\n",
              " '104-22-0928,2017-03-28T12:38:29Z,2016-04-15T11:37:17Z\\n']"
            ]
          },
          "metadata": {
            "tags": []
          },
          "execution_count": 6
        }
      ]
    },
    {
      "cell_type": "code",
      "metadata": {
        "colab": {
          "base_uri": "https://localhost:8080/"
        },
        "id": "_76E-cLhVEJu",
        "outputId": "6eca396e-53e1-43e8-d563-d0ca8ebe015d"
      },
      "source": [
        "vehiclefile=basedir+'vehicles.csv'\n",
        "open(vehiclefile, 'r').readlines()[:5]"
      ],
      "execution_count": 7,
      "outputs": [
        {
          "output_type": "execute_result",
          "data": {
            "text/plain": [
              "['ssn,vehicle_make,vehicle_model,model_year\\n',\n",
              " '100-53-9824,Oldsmobile,Bravada,1993\\n',\n",
              " '101-71-4702,Ford,Mustang,1997\\n',\n",
              " '101-84-0356,GMC,Yukon,2005\\n',\n",
              " '104-22-0928,Oldsmobile,Intrigue,2000\\n']"
            ]
          },
          "metadata": {
            "tags": []
          },
          "execution_count": 7
        }
      ]
    },
    {
      "cell_type": "code",
      "metadata": {
        "id": "n1osV7ije3oc"
      },
      "source": [
        "# Defining the datatypes in the row\n",
        "data_types_vehicles = ['STRING', 'STRING', 'STRING', 'DATE']\n",
        "data_types_upstatus = ['STRING', 'DATETIME', 'DATETIME']\n",
        "data_types_perinfo = ['STRING', 'STRING', 'STRING', 'STRING','STRING']\n",
        "data_types_employee = ['STRING', 'STRING', 'STRING', 'STRING']"
      ],
      "execution_count": 8,
      "outputs": []
    },
    {
      "cell_type": "code",
      "metadata": {
        "id": "n8nFCxSy1OWb"
      },
      "source": [
        "# Function to cast the value to the appropriate datatype\n",
        "def cast(data_type, value):\n",
        "    if data_type == 'DOUBLE':\n",
        "        return float(value)\n",
        "    elif data_type == 'INT':\n",
        "        return int(value)\n",
        "    elif data_type =='DATETIME':\n",
        "        return datetime.strptime(value,'%Y-%m-%dT%H:%M:%S%z').date()\n",
        "    elif data_type == 'DATE':\n",
        "        return datetime.strptime(value,'%Y').date().year\n",
        "    else:\n",
        "        return str(value)"
      ],
      "execution_count": 9,
      "outputs": []
    },
    {
      "cell_type": "code",
      "metadata": {
        "id": "VVAuzXGX1VcE"
      },
      "source": [
        "#Function which takes one row and sends the elements one by one for casting. Returns a list of casted elements \n",
        "def cast_row(data_types, data_row):\n",
        "    return [cast(data_type, value) \n",
        "            for data_type, value in zip(data_types, data_row)]"
      ],
      "execution_count": 10,
      "outputs": []
    },
    {
      "cell_type": "code",
      "metadata": {
        "id": "NtXEB1R_VXPU"
      },
      "source": [
        "# reading the file provided by filename and returning an iterator\n",
        "def read_file(filename, data_types, header = False):\n",
        "    with open(filename) as file:\n",
        "        file_iter = iter(file)\n",
        "        headers = next(file_iter).strip('\\n').split(',')\n",
        "        tuplename = filename.split('.')[0].split('/')[-1]\n",
        "        named_tuple = namedtuple(tuplename, headers, defaults=(None,) * len(headers))\n",
        "        if header:\n",
        "            yield headers\n",
        "        for line in file_iter:\n",
        "            data = line.strip('\\n').split(',')\n",
        "            data = cast_row(data_types, data)\n",
        "            iterdata = named_tuple(*data)\n",
        "            yield iterdata"
      ],
      "execution_count": 11,
      "outputs": []
    },
    {
      "cell_type": "markdown",
      "metadata": {
        "id": "-LiFqprA37-M"
      },
      "source": [
        "#### Solution 1\n",
        "Build generators for each of the datasets"
      ]
    },
    {
      "cell_type": "code",
      "metadata": {
        "id": "ZB0pUhPxckVD"
      },
      "source": [
        "def get_employee():\n",
        "  return read_file(empfile, data_types_employee)"
      ],
      "execution_count": 12,
      "outputs": []
    },
    {
      "cell_type": "code",
      "metadata": {
        "id": "al0s0jU63U7p"
      },
      "source": [
        "# define generator to get data from function via next() operator\n",
        "employee_gen = get_employee()"
      ],
      "execution_count": 13,
      "outputs": []
    },
    {
      "cell_type": "code",
      "metadata": {
        "colab": {
          "base_uri": "https://localhost:8080/"
        },
        "id": "V9PPIcXo3xv4",
        "outputId": "0e8e049e-2808-430c-bebf-3db36ed28527"
      },
      "source": [
        "next(employee_gen) # generator yielding next data"
      ],
      "execution_count": 14,
      "outputs": [
        {
          "output_type": "execute_result",
          "data": {
            "text/plain": [
              "employment(employer='Stiedemann-Bailey', department='Research and Development', employee_id='29-0890771', ssn='100-53-9824')"
            ]
          },
          "metadata": {
            "tags": []
          },
          "execution_count": 14
        }
      ]
    },
    {
      "cell_type": "code",
      "metadata": {
        "id": "BG7K1zSa4kiv"
      },
      "source": [
        "def get_personalinfo():\n",
        "  return read_file(personalfile, data_types_perinfo)"
      ],
      "execution_count": 15,
      "outputs": []
    },
    {
      "cell_type": "code",
      "metadata": {
        "id": "1g7sh_mv6wfv"
      },
      "source": [
        "personalinfo_gen = get_personalinfo()"
      ],
      "execution_count": 16,
      "outputs": []
    },
    {
      "cell_type": "code",
      "metadata": {
        "colab": {
          "base_uri": "https://localhost:8080/"
        },
        "id": "-iZWnSn47E2j",
        "outputId": "f2619a55-642f-4f14-b903-8367ee25679b"
      },
      "source": [
        "next(personalinfo_gen)"
      ],
      "execution_count": 17,
      "outputs": [
        {
          "output_type": "execute_result",
          "data": {
            "text/plain": [
              "personal_info(ssn='100-53-9824', first_name='Sebastiano', last_name='Tester', gender='Male', language='Icelandic')"
            ]
          },
          "metadata": {
            "tags": []
          },
          "execution_count": 17
        }
      ]
    },
    {
      "cell_type": "code",
      "metadata": {
        "id": "rL5PuKR57M_x"
      },
      "source": [
        "def get_updatefile():\n",
        "  return read_file(updatefile, data_types_upstatus)\n"
      ],
      "execution_count": 18,
      "outputs": []
    },
    {
      "cell_type": "code",
      "metadata": {
        "id": "Cpky-BYG-deQ"
      },
      "source": [
        "updateinfo_gen = get_updatefile()"
      ],
      "execution_count": 19,
      "outputs": []
    },
    {
      "cell_type": "code",
      "metadata": {
        "colab": {
          "base_uri": "https://localhost:8080/"
        },
        "id": "YLNrELHD-iof",
        "outputId": "6f9f35d6-7b72-4173-bc29-0969e27567d4"
      },
      "source": [
        "next(updateinfo_gen)"
      ],
      "execution_count": 20,
      "outputs": [
        {
          "output_type": "execute_result",
          "data": {
            "text/plain": [
              "update_status(ssn='100-53-9824', last_updated=datetime.date(2017, 10, 7), created=datetime.date(2016, 1, 24))"
            ]
          },
          "metadata": {
            "tags": []
          },
          "execution_count": 20
        }
      ]
    },
    {
      "cell_type": "code",
      "metadata": {
        "id": "ZnSiU7Tx8TzV"
      },
      "source": [
        "def get_vehiclefile():\n",
        "  return read_file(vehiclefile, data_types_vehicles)"
      ],
      "execution_count": 21,
      "outputs": []
    },
    {
      "cell_type": "code",
      "metadata": {
        "id": "aZy_Wxg3-TBr"
      },
      "source": [
        "vehicleinfo_gen = get_vehiclefile()"
      ],
      "execution_count": 22,
      "outputs": []
    },
    {
      "cell_type": "code",
      "metadata": {
        "colab": {
          "base_uri": "https://localhost:8080/"
        },
        "id": "2xJoZ1Nj-5_3",
        "outputId": "2e923ac3-494c-4e21-cefa-f7f193e782e1"
      },
      "source": [
        "next(vehicleinfo_gen)"
      ],
      "execution_count": 23,
      "outputs": [
        {
          "output_type": "execute_result",
          "data": {
            "text/plain": [
              "vehicles(ssn='100-53-9824', vehicle_make='Oldsmobile', vehicle_model='Bravada', model_year=1993)"
            ]
          },
          "metadata": {
            "tags": []
          },
          "execution_count": 23
        }
      ]
    },
    {
      "cell_type": "markdown",
      "metadata": {
        "id": "UVGYoZzV4Js-"
      },
      "source": [
        "#### Solution 2\n",
        "combined_iter carries all the field variables present disjointly in individual dataset of 4 files supplied.Steps done are as follows:-\n",
        "a) sort the each file by key as ssn\n",
        "b) combine the individual named tuple in a list with a key value pair where key as ssn and remaining member as values."
      ]
    },
    {
      "cell_type": "code",
      "metadata": {
        "id": "nn_oxfqJvbxu"
      },
      "source": [
        "\n",
        "## Function for sorting the iterator and returns a sorted iterator\n",
        "def sorting(iterator, field):\n",
        "    sorted_ = iter(sorted(iterator, key=lambda x: getattr(x, field), reverse = False))\n",
        "    return (sorted_)"
      ],
      "execution_count": 24,
      "outputs": []
    },
    {
      "cell_type": "code",
      "metadata": {
        "id": "tMWOTNK4vqZG"
      },
      "source": [
        "## Function for merging the individual namedtuple in a list\n",
        "def merge(ntuples):\n",
        "    m = {}\n",
        "    for i in ntuples:\n",
        "        m.update(i._asdict())\n",
        "    M = namedtuple(\"combiner\", m.keys())(*m.values())\n",
        "    return M"
      ],
      "execution_count": 25,
      "outputs": []
    },
    {
      "cell_type": "code",
      "metadata": {
        "id": "nLOFZ5lJvtSQ"
      },
      "source": [
        "## Combining the iterators and returning the value via a yield thus making the function a generator\n",
        "def combiner(*args):\n",
        "    for k in zip(*args):\n",
        "        yield merge(list(k))"
      ],
      "execution_count": 26,
      "outputs": []
    },
    {
      "cell_type": "code",
      "metadata": {
        "id": "P3JH0PWmv7Ap"
      },
      "source": [
        "## Sorting the iterators w.r.t ssn\n",
        "rows_perinfo_sort = sorting(get_personalinfo(), 'ssn')\n",
        "rows_employ_sort = sorting(get_employee(),'ssn')\n",
        "rows_updateStatus_sort = sorting(get_updatefile(),'ssn')\n",
        "rows_vehicles_sort = sorting(get_vehiclefile(),'ssn')"
      ],
      "execution_count": 27,
      "outputs": []
    },
    {
      "cell_type": "code",
      "metadata": {
        "colab": {
          "base_uri": "https://localhost:8080/"
        },
        "id": "gTJc8JnCwB3Y",
        "outputId": "d2c8cc24-29f2-4d0c-f33a-c7c1e9a9a1fc"
      },
      "source": [
        "# Printing the first 5 elements from the combined iterators\n",
        "for index, rows in enumerate(islice(combiner(rows_perinfo_sort,rows_employ_sort, rows_updateStatus_sort, rows_vehicles_sort), 5)):\n",
        "    print(index,'-->',rows)"
      ],
      "execution_count": 28,
      "outputs": [
        {
          "output_type": "stream",
          "text": [
            "0 --> combiner(ssn='100-53-9824', first_name='Sebastiano', last_name='Tester', gender='Male', language='Icelandic', employer='\"Crona', department=' Bogan and Beatty\"', employee_id='Business Development', last_updated=datetime.date(2017, 10, 7), created=datetime.date(2016, 1, 24), vehicle_make='Oldsmobile', vehicle_model='Bravada', model_year=1993)\n",
            "1 --> combiner(ssn='101-71-4702', first_name='Cayla', last_name='MacDonagh', gender='Female', language='Lao', employer='\"Fay', department=' Becker and Purdy\"', employee_id='Training', last_updated=datetime.date(2017, 1, 23), created=datetime.date(2016, 1, 27), vehicle_make='Ford', vehicle_model='Mustang', model_year=1997)\n",
            "2 --> combiner(ssn='101-84-0356', first_name='Nomi', last_name='Lipprose', gender='Female', language='Yiddish', employer='\"Ankunding', department=' Larson and Leannon\"', employee_id='Legal', last_updated=datetime.date(2017, 10, 4), created=datetime.date(2016, 9, 21), vehicle_make='GMC', vehicle_model='Yukon', model_year=2005)\n",
            "3 --> combiner(ssn='104-22-0928', first_name='Justinian', last_name='Kunzelmann', gender='Male', language='Dhivehi', employer='\"Marquardt', department=' Wehner and Heathcote\"', employee_id='Legal', last_updated=datetime.date(2017, 3, 28), created=datetime.date(2016, 4, 15), vehicle_make='Oldsmobile', vehicle_model='Intrigue', model_year=2000)\n",
            "4 --> combiner(ssn='104-84-7144', first_name='Claudianus', last_name='Brixey', gender='Male', language='Afrikaans', employer='\"O\\'Kon', department=' Ortiz and Cassin\"', employee_id='Engineering', last_updated=datetime.date(2018, 2, 19), created=datetime.date(2016, 3, 15), vehicle_make='Ford', vehicle_model='Crown Victoria', model_year=2008)\n"
          ],
          "name": "stdout"
        }
      ]
    },
    {
      "cell_type": "markdown",
      "metadata": {
        "id": "IDitJcE_5VCh"
      },
      "source": [
        "Solution 3: Identify any stale records, where stale simply means the record has not been updated since 3/1/2017 (e.g. last update date < 3/1/2017). Create an iterator that only contains current records (i.e. not stale) based on the last_updated field from the status_update file"
      ]
    },
    {
      "cell_type": "code",
      "metadata": {
        "id": "uDzax3vtwFuf"
      },
      "source": [
        "# A function to remove all the values below a particular date and return an iterator for the rest\n",
        "def filiter(combi):\n",
        "    date_ref = datetime.strptime('3/1/2017','%m/%d/%Y').date()\n",
        "    for obj in combi:\n",
        "        if obj.last_updated >= date_ref:\n",
        "            yield obj\n",
        "        else:\n",
        "            continue"
      ],
      "execution_count": 29,
      "outputs": []
    },
    {
      "cell_type": "code",
      "metadata": {
        "id": "Q5bGppe7wMWh"
      },
      "source": [
        "## Sorting the iterators\n",
        "rows_perinfo_sort = sorting(get_personalinfo(), 'ssn')\n",
        "rows_employ_sort = sorting(get_employee(),'ssn')\n",
        "rows_updateStatus_sort = sorting(get_updatefile(),'ssn')\n",
        "rows_vehicles_sort = sorting(get_vehiclefile(),'ssn')"
      ],
      "execution_count": 30,
      "outputs": []
    },
    {
      "cell_type": "code",
      "metadata": {
        "id": "ZOTYn9qAwQDU"
      },
      "source": [
        "## Combining the iterators\n",
        "combined_iter = combiner(rows_perinfo_sort,rows_employ_sort, rows_updateStatus_sort, rows_vehicles_sort)"
      ],
      "execution_count": 31,
      "outputs": []
    },
    {
      "cell_type": "code",
      "metadata": {
        "id": "cCRpbx8_wSpk"
      },
      "source": [
        "## An iterator for the filtered dates\n",
        "fil = filiter(combined_iter)"
      ],
      "execution_count": 32,
      "outputs": []
    },
    {
      "cell_type": "code",
      "metadata": {
        "id": "vAqONVQVwZpv",
        "colab": {
          "base_uri": "https://localhost:8080/"
        },
        "outputId": "76e23cdb-6b43-44f9-bf2b-13be2c919e2b"
      },
      "source": [
        "## Printing the first 5 elements after filtering values less than a particular date\n",
        "fil = filiter(combined_iter)\n",
        "for index, rows in enumerate(islice(fil,5)):\n",
        "    print(index,'-->',rows)"
      ],
      "execution_count": 34,
      "outputs": [
        {
          "output_type": "stream",
          "text": [
            "0 --> combiner(ssn='100-53-9824', first_name='Sebastiano', last_name='Tester', gender='Male', language='Icelandic', employer='\"Crona', department=' Bogan and Beatty\"', employee_id='Business Development', last_updated=datetime.date(2017, 10, 7), created=datetime.date(2016, 1, 24), vehicle_make='Oldsmobile', vehicle_model='Bravada', model_year=1993)\n",
            "1 --> combiner(ssn='101-84-0356', first_name='Nomi', last_name='Lipprose', gender='Female', language='Yiddish', employer='\"Ankunding', department=' Larson and Leannon\"', employee_id='Legal', last_updated=datetime.date(2017, 10, 4), created=datetime.date(2016, 9, 21), vehicle_make='GMC', vehicle_model='Yukon', model_year=2005)\n",
            "2 --> combiner(ssn='104-22-0928', first_name='Justinian', last_name='Kunzelmann', gender='Male', language='Dhivehi', employer='\"Marquardt', department=' Wehner and Heathcote\"', employee_id='Legal', last_updated=datetime.date(2017, 3, 28), created=datetime.date(2016, 4, 15), vehicle_make='Oldsmobile', vehicle_model='Intrigue', model_year=2000)\n",
            "3 --> combiner(ssn='104-84-7144', first_name='Claudianus', last_name='Brixey', gender='Male', language='Afrikaans', employer='\"O\\'Kon', department=' Ortiz and Cassin\"', employee_id='Engineering', last_updated=datetime.date(2018, 2, 19), created=datetime.date(2016, 3, 15), vehicle_make='Ford', vehicle_model='Crown Victoria', model_year=2008)\n",
            "4 --> combiner(ssn='105-27-5541', first_name='Federico', last_name='Aggett', gender='Male', language='Chinese', employer='\"Kozey', department=' O\\'Reilly and Nicolas\"', employee_id='Accounting', last_updated=datetime.date(2017, 7, 24), created=datetime.date(2016, 7, 23), vehicle_make='Ford', vehicle_model='Mustang', model_year=2001)\n"
          ],
          "name": "stdout"
        }
      ]
    },
    {
      "cell_type": "markdown",
      "metadata": {
        "id": "buY6xSJG5c_r"
      },
      "source": [
        "#### Solution 4: Find the largest group of car makes for each gender."
      ]
    },
    {
      "cell_type": "code",
      "metadata": {
        "id": "7RKxnY0LzkPg"
      },
      "source": [
        "def carmake_per_gender(it, gender):\n",
        "  filt_data = [x.vehicle_make for x in it if (x.gender == gender)]\n",
        "  _count = Counter(filt_data)\n",
        "  return Counter(_count)\n",
        "  #return {k: v for k, v in _count.items() if v == max(_count.values())}"
      ],
      "execution_count": 35,
      "outputs": []
    },
    {
      "cell_type": "code",
      "metadata": {
        "id": "JupKKkl70EBa"
      },
      "source": [
        "## Sorting the iterators\n",
        "rows_perinfo_sort = sorting(get_personalinfo(), 'ssn')\n",
        "rows_employ_sort = sorting(get_employee(),'ssn')\n",
        "rows_updateStatus_sort = sorting(get_updatefile(),'ssn')\n",
        "rows_vehicles_sort = sorting(get_vehiclefile(),'ssn')"
      ],
      "execution_count": 36,
      "outputs": []
    },
    {
      "cell_type": "code",
      "metadata": {
        "id": "nEfiMvom1CwJ"
      },
      "source": [
        "## Combining the iterators\n",
        "combined_iter = combiner(rows_perinfo_sort,rows_employ_sort, rows_updateStatus_sort, rows_vehicles_sort)"
      ],
      "execution_count": 37,
      "outputs": []
    },
    {
      "cell_type": "code",
      "metadata": {
        "colab": {
          "base_uri": "https://localhost:8080/"
        },
        "id": "3W947Uqu1GZz",
        "outputId": "6567710c-33d3-4515-b485-147016c321c5"
      },
      "source": [
        "cars_by_female = carmake_per_gender(combined_iter, 'Female')\n",
        "# print 3 most common carmakes owned by female members\n",
        "\n",
        "cars_by_female.most_common(3)"
      ],
      "execution_count": 38,
      "outputs": [
        {
          "output_type": "execute_result",
          "data": {
            "text/plain": [
              "[('Ford', 48), ('Chevrolet', 48), ('Mitsubishi', 25)]"
            ]
          },
          "metadata": {
            "tags": []
          },
          "execution_count": 38
        }
      ]
    },
    {
      "cell_type": "code",
      "metadata": {
        "colab": {
          "base_uri": "https://localhost:8080/"
        },
        "id": "mFIkvT1O1Pww",
        "outputId": "da4ff325-be3d-42f8-8b45-54c041f4a708"
      },
      "source": [
        "## Sorting the iterators\n",
        "rows_perinfo_sort = sorting(get_personalinfo(), 'ssn')\n",
        "rows_employ_sort = sorting(get_employee(),'ssn')\n",
        "rows_updateStatus_sort = sorting(get_updatefile(),'ssn')\n",
        "rows_vehicles_sort = sorting(get_vehiclefile(),'ssn')\n",
        "## Combining the iterators\n",
        "combined_iter = combiner(rows_perinfo_sort,rows_employ_sort, rows_updateStatus_sort, rows_vehicles_sort)\n",
        "cars_by_male = carmake_per_gender(combined_iter, 'Male')\n",
        "cars_by_male.most_common(3)"
      ],
      "execution_count": 39,
      "outputs": [
        {
          "output_type": "execute_result",
          "data": {
            "text/plain": [
              "[('Ford', 44), ('Chevrolet', 38), ('GMC', 31)]"
            ]
          },
          "metadata": {
            "tags": []
          },
          "execution_count": 39
        }
      ]
    },
    {
      "cell_type": "markdown",
      "metadata": {
        "id": "htbrHST_5rAC"
      },
      "source": [
        "Ford is the largest carmake of the cars owned by male and female members."
      ]
    }
  ]
}